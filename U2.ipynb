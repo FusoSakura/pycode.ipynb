import cv2
import numpy as np
from ultralytics import YOLO
import serial
import time
from pushbullet import Pushbullet

# ------------------ 시리얼 포트 연결 ------------------
try:
    arduino = serial.Serial('COM5', 9600, timeout=1)
    time.sleep(2)
    print("✅ 아두이노 연결 완료")
except serial.SerialException as e:
    print("❌ 아두이노 연결 실패:", e)
    arduino = None

# ------------------ YOLO 모델 로드 ------------------
det_model = YOLO("yolov8n.pt")  # 또는 "best.pt" 등 사용자 모델
class_names = det_model.names

# ------------------ 카메라 설정 ------------------
cam = cv2.VideoCapture(0)
if not cam.isOpened():
    print("❌ 카메라 열기 실패")
    exit()
print("✅ 카메라 연결 완료")

last_send_time = time.time()

while True:
    ret, frame = cam.read()
    if not ret:
        print("❌ 프레임 읽기 실패")
        break

    # 프레임 리사이즈
    scale = 1280 / max(frame.shape)
    if scale < 1:
        frame = cv2.resize(frame, None, fx=scale, fy=scale, interpolation=cv2.INTER_AREA)

    display_frame = frame.copy()

    # ROI 영역 설정
    frame_height, frame_width = frame.shape[:2]
    roi_height = int(frame_height * 0.3)
    roi_y = (frame_height - roi_height) // 2
    roi = (0, roi_y, frame_width, roi_height)

    # ROI 시각화
    cv2.rectangle(display_frame, (roi[0], roi[1]), (roi[0]+roi[2], roi[1]+roi[3]), (255, 0, 0), 2)

    # 객체 탐지
    results = det_model(frame, verbose=False)
    boxes = results[0].boxes

    car_detected = False

    for box in boxes:
        cls_id = int(box.cls[0])
        conf = float(box.conf[0])
        label = class_names.get(cls_id, "unknown")
        x1, y1, x2, y2 = map(int, box.xyxy[0])

        if label.lower() == "car" and conf > 0.5:
            # ROI 영역 내에 있는지 확인
            if x1 < roi[0]+roi[2] and x2 > roi[0] and y1 < roi[1]+roi[3] and y2 > roi[1]:
                car_detected = True
                cv2.rectangle(display_frame, (x1, y1), (x2, y2), (0, 255, 0), 2)
                cv2.putText(display_frame, f"{label} {conf:.2f}", (x1, max(y1 - 5, 0)),
                            cv2.FONT_HERSHEY_SIMPLEX, 0.5, (0, 255, 0), 1)
                print("🚗 차량 감지됨")

    # 아두이노 전송
    current_time = time.time()
    if current_time - last_send_time >= 5 and arduino is not None:  # 5초로 주기 수정
        if car_detected:
            arduino.write(b'C')
            print("📤 아두이노 전송: 차량 감지")
            pb = Pushbullet("o.0dwbnbFUsUaXRdTk9cFCt3dx1R5O2All")

            # 메시지 전송
            push = pb.push_note("경고", "건널목에 차량이 있습니다.")
            print("message sent!")

        else:
            arduino.write(b'N')
            print("📤 아두이노 전송: 차량 없음")
        last_send_time = current_time

    # 영상 출력
    cv2.imshow('cam', display_frame)
    if cv2.waitKey(1) & 0xFF == ord('q'):
        break

# 종료 처리
if arduino is not None:
    arduino.close()
cam.release()
cv2.destroyAllWindows()
